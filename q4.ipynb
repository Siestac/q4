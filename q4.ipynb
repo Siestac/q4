{
 "cells": [
  {
   "cell_type": "markdown",
   "id": "c9da4302",
   "metadata": {},
   "source": [
    "URL: "
   ]
  },
  {
   "cell_type": "code",
   "execution_count": 1,
   "id": "3e610ea1",
   "metadata": {},
   "outputs": [
    {
     "name": "stdout",
     "output_type": "stream",
     "text": [
      "                 time  longitude  latitude      Ktemp\n",
      "0  1950-01-01 9:00:00        286     40.75  274.39734\n",
      "1  1950-01-02 9:00:00        286     40.75  277.07593\n",
      "2  1950-01-03 9:00:00        286     40.75  280.80090\n",
      "3  1950-01-04 9:00:00        286     40.75  287.14010\n",
      "4  1950-01-05 9:00:00        286     40.75  285.65262\n",
      "                 time  longitude  latitude      Ktemp  Year  Month  Day  \\\n",
      "0 1950-01-01 09:00:00        286     40.75  274.39734  1950      1    1   \n",
      "1 1950-01-02 09:00:00        286     40.75  277.07593  1950      1    2   \n",
      "2 1950-01-03 09:00:00        286     40.75  280.80090  1950      1    3   \n",
      "3 1950-01-04 09:00:00        286     40.75  287.14010  1950      1    4   \n",
      "4 1950-01-05 09:00:00        286     40.75  285.65262  1950      1    5   \n",
      "\n",
      "  exacttime      Ftemp  \n",
      "0  09:00:00  34.245212  \n",
      "1  09:00:00  39.066674  \n",
      "2  09:00:00  45.771620  \n",
      "3  09:00:00  57.182180  \n",
      "4  09:00:00  54.504716  \n"
     ]
    }
   ],
   "source": [
    "import pandas as pd\n",
    "import matplotlib.pyplot as plt\n",
    "from ipywidgets import interact, IntSlider\n",
    "import ipywidgets as widgets\n",
    "import numpy as np\n",
    "df = pd.read_csv('/Users/yiweihan/Desktop/weather.csv')\n",
    "print(df.head())\n",
    "df['time'] = pd.to_datetime(df['time'])\n",
    "df['Year'] = df['time'].dt.year\n",
    "df['Month'] = df['time'].dt.month\n",
    "df['Day'] = df['time'].dt.day\n",
    "df['exacttime'] = df['time'].dt.time\n",
    "df['Ftemp'] = (df['Ktemp'] - 273.15) * (9/5) + 32\n",
    "print(df.head())"
   ]
  },
  {
   "cell_type": "markdown",
   "id": "9e734106",
   "metadata": {},
   "source": [
    "## Part A"
   ]
  },
  {
   "cell_type": "code",
   "execution_count": 2,
   "id": "d7f96acf",
   "metadata": {},
   "outputs": [
    {
     "data": {
      "application/vnd.jupyter.widget-view+json": {
       "model_id": "13330659388a45d5b204cd0ae33c7caa",
       "version_major": 2,
       "version_minor": 0
      },
      "text/plain": [
       "interactive(children=(IntSlider(value=1950, description='Select Year:', max=2021, min=1950), Output()), _dom_c…"
      ]
     },
     "metadata": {},
     "output_type": "display_data"
    }
   ],
   "source": [
    "def plot_monthly_avg_for_year(selected_year):\n",
    "    df_year = df[df['Year'] == selected_year]\n",
    "    monthly_avg = df_year.groupby('Month')['Ftemp'].mean().reset_index()\n",
    "    plt.figure(figsize=(6,4))\n",
    "    plt.plot(monthly_avg['Month'], monthly_avg['Ftemp'], marker='o')\n",
    "    plt.title(f'Average Monthly Temperature (F) for Year {selected_year}')\n",
    "    plt.xlabel('Month')\n",
    "    plt.ylabel('Temperature (F)')\n",
    "    plt.xticks(range(1, 13))\n",
    "    plt.grid(True)\n",
    "    plt.show()\n",
    "\n",
    "min_year = df['Year'].min()\n",
    "max_year = df['Year'].max()\n",
    "\n",
    "@interact(\n",
    "    year=IntSlider(\n",
    "        min=min_year, \n",
    "        max=max_year, \n",
    "        step=1, \n",
    "        value=min_year, \n",
    "        description='Select Year:'\n",
    "    )\n",
    ")\n",
    "def interactive_year_filter(year):\n",
    "    plot_monthly_avg_for_year(year)"
   ]
  },
  {
   "cell_type": "markdown",
   "id": "450c1df7",
   "metadata": {},
   "source": [
    "## Part B"
   ]
  },
  {
   "cell_type": "code",
   "execution_count": 3,
   "id": "5f8721ea",
   "metadata": {},
   "outputs": [
    {
     "name": "stdout",
     "output_type": "stream",
     "text": [
      "The first year where the annual average temperature exceeds 55°F is 1953.\n"
     ]
    }
   ],
   "source": [
    "yearly_avg = df.groupby('Year')['Ftemp'].mean().reset_index()\n",
    "threshold = 55\n",
    "warm_years = yearly_avg[yearly_avg['Ftemp'] > threshold]\n",
    "first_warm_year = warm_years['Year'].min()\n",
    "print(f\"The first year where the annual average temperature exceeds 55°F is {first_warm_year}.\")"
   ]
  },
  {
   "cell_type": "markdown",
   "id": "dc9da2cf",
   "metadata": {},
   "source": [
    "## Part C"
   ]
  },
  {
   "cell_type": "markdown",
   "id": "c288650e",
   "metadata": {},
   "source": [
    "This plot is the monthly average temperature with standard deviation. We can see that the standard deviation in colder months is larger than in hotter months."
   ]
  },
  {
   "cell_type": "code",
   "execution_count": 4,
   "id": "42eb6840",
   "metadata": {},
   "outputs": [
    {
     "data": {
      "image/png": "[encoded data removed]",
      "text/plain": [
       "<Figure size 720x432 with 1 Axes>"
      ]
     },
     "metadata": {
      "needs_background": "light"
     },
     "output_type": "display_data"
    }
   ],
   "source": [
    "monthly_stats = df.groupby('Month')['Ftemp'].agg(['mean', 'std']).reset_index()\n",
    "\n",
    "plt.figure(figsize=(10, 6))\n",
    "plt.bar(monthly_stats['Month'], monthly_stats['mean'], \n",
    "        yerr=monthly_stats['std'], capsize=5, color='skyblue', alpha=0.7)\n",
    "plt.xlabel(\"Month\")\n",
    "plt.ylabel(\"Average Temperature (°F)\")\n",
    "plt.title(\"Monthly Average Temperature with Standard Deviation\")\n",
    "plt.xticks(monthly_stats['Month'], labels=['Jan', 'Feb', 'Mar', 'Apr', 'May', 'Jun', \n",
    "                                             'Jul', 'Aug', 'Sep', 'Oct', 'Nov', 'Dec'])\n",
    "plt.show()"
   ]
  },
  {
   "cell_type": "markdown",
   "id": "3822e53b",
   "metadata": {},
   "source": [
    "This is the yearly average temperature time serious plot. We can see that the average temperature varies a lot year by year, but there is an increasing trend in average temperature as time proceeds. "
   ]
  },
  {
   "cell_type": "code",
   "execution_count": 5,
   "id": "84f2a9d0",
   "metadata": {},
   "outputs": [
    {
     "data": {
      "image/png": "[encoded data removed]",
      "text/plain": [
       "<Figure size 720x432 with 1 Axes>"
      ]
     },
     "metadata": {
      "needs_background": "light"
     },
     "output_type": "display_data"
    }
   ],
   "source": [
    "yearly_avg = df.groupby('Year')['Ftemp'].mean().reset_index()\n",
    "plt.figure(figsize=(10, 6))\n",
    "plt.plot(yearly_avg['Year'], yearly_avg['Ftemp'], marker='o', linestyle='-', color='teal')\n",
    "plt.title('Yearly Average Temperature')\n",
    "plt.xlabel('Year')\n",
    "plt.ylabel('Average Temperature (°F)')\n",
    "plt.grid(True)\n",
    "plt.show()"
   ]
  },
  {
   "cell_type": "markdown",
   "id": "76f3e341",
   "metadata": {},
   "source": [
    "This is the hitogram distribution of all the temperatures. We can see there's a bimodal distribution with one centered at 40 and another centered at around 75."
   ]
  },
  {
   "cell_type": "code",
   "execution_count": 6,
   "id": "5e8a95fe",
   "metadata": {},
   "outputs": [
    {
     "data": {
      "application/vnd.jupyter.widget-view+json": {
       "model_id": "8effc2cf91304e49af012e439c57e049",
       "version_major": 2,
       "version_minor": 0
      },
      "text/plain": [
       "interactive(children=(IntSlider(value=20, continuous_update=False, description='Bins:', min=5, step=5), Output…"
      ]
     },
     "metadata": {},
     "output_type": "display_data"
    }
   ],
   "source": [
    "def plot_histogram(nbins):\n",
    "    plt.figure(figsize=(10, 6))\n",
    "    plt.hist(df['Ftemp'], bins=nbins, color='skyblue', edgecolor='black')\n",
    "    plt.title(f\"Histogram of Temperature (bins={nbins})\")\n",
    "    plt.xlabel(\"Temperature (°F)\")\n",
    "    plt.ylabel(\"Frequency\")\n",
    "    plt.show()\n",
    "\n",
    "nbins_slider = widgets.IntSlider(\n",
    "    value=20,\n",
    "    min=5,\n",
    "    max=100,\n",
    "    step=5,\n",
    "    description='Bins:',\n",
    "    continuous_update=False\n",
    ")\n",
    "interact(plot_histogram, nbins=nbins_slider);\n"
   ]
  },
  {
   "cell_type": "markdown",
   "id": "3d9ccc15",
   "metadata": {},
   "source": [
    "This plot is the temperatur trend with polynomial fit that you can adjust for each year and up to 10 degree polynomial. You can see as number of degree increases, the better fit for the trend in temperature."
   ]
  },
  {
   "cell_type": "code",
   "execution_count": 7,
   "id": "0b058778",
   "metadata": {},
   "outputs": [
    {
     "data": {
      "application/vnd.jupyter.widget-view+json": {
       "model_id": "da2fcbe714a640cc83d96281a26ea407",
       "version_major": 2,
       "version_minor": 0
      },
      "text/plain": [
       "interactive(children=(Dropdown(description='year', options=(1950, 1951, 1952, 1953, 1954, 1955, 1956, 1957, 19…"
      ]
     },
     "metadata": {},
     "output_type": "display_data"
    }
   ],
   "source": [
    "def poly_fit_temperature(year, poly_order):\n",
    "    df_year = df[df['Year'] == year].sort_values('time')\n",
    "    x = (df_year['time'] - pd.Timestamp(year=year, month=1, day=1)).dt.days.values\n",
    "    y = df_year['Ftemp'].values\n",
    "    coeffs = np.polyfit(x, y, poly_order)\n",
    "    poly = np.poly1d(coeffs)\n",
    "    x_fit = np.linspace(x.min(), x.max(), 300)\n",
    "    y_fit = poly(x_fit)\n",
    "    \n",
    "    plt.figure(figsize=(10, 6))\n",
    "    plt.scatter(x, y, label=\"Daily Temperature\", alpha=0.6)\n",
    "    plt.plot(x_fit, y_fit, color='red', label=f\"Poly Fit (order {poly_order})\", linewidth=2)\n",
    "    plt.xlabel(\"Day Number in Year\")\n",
    "    plt.ylabel(\"Temperature (°F)\")\n",
    "    plt.title(f\"Temperature Trend in {year} with Polynomial Fit\")\n",
    "    plt.legend()\n",
    "    plt.grid(True)\n",
    "    plt.show()\n",
    "\n",
    "year_options = sorted(df['Year'].unique())\n",
    "interact(poly_fit_temperature, year=year_options, poly_order=(1, 10, 1));"
   ]
  },
  {
   "cell_type": "markdown",
   "id": "17de993a",
   "metadata": {},
   "source": [
    "3D scatter plot displays how the temperature in a selected month changes over multiple years, with the x-axis representing the year, the y-axis representing the day of the month, and the z-axis showing the temperature in Fahrenheit, providing comparison of intra-month temperature variations across different years."
   ]
  },
  {
   "cell_type": "code",
   "execution_count": 8,
   "id": "a921ab52",
   "metadata": {},
   "outputs": [
    {
     "data": {
      "application/vnd.jupyter.widget-view+json": {
       "model_id": "666fe72aa16e4e3c8829dd2664965964",
       "version_major": 2,
       "version_minor": 0
      },
      "text/plain": [
       "interactive(children=(Dropdown(description='month', options=(1, 2, 3, 4, 5, 6, 7, 8, 9, 10, 11, 12), value=1),…"
      ]
     },
     "metadata": {},
     "output_type": "display_data"
    }
   ],
   "source": [
    "from mpl_toolkits.mplot3d import Axes3D\n",
    "\n",
    "def plot_3d_temperature(month):\n",
    "    df_month = df[df['time'].dt.month == month]\n",
    "    if df_month.empty:\n",
    "        print(\"No data for this month.\")\n",
    "        return\n",
    "    fig = plt.figure(figsize=(10,8))\n",
    "    ax = fig.add_subplot(111, projection='3d')\n",
    "    sc = ax.scatter(df_month['Year'], df_month['Day'], df_month['Ftemp'], \n",
    "                    c=df_month['Ftemp'], cmap='coolwarm', s=50)\n",
    "    ax.set_xlabel(\"Year\")\n",
    "    ax.set_ylabel(\"Day of Month\")\n",
    "    ax.set_zlabel(\"Temperature (°F)\")\n",
    "    ax.set_title(f\"3D Scatter of Temperature in Month {month}\")\n",
    "    plt.colorbar(sc, label=\"Temperature (°F)\")\n",
    "    plt.show()\n",
    "\n",
    "month_options = list(range(1, 13))\n",
    "interact(plot_3d_temperature, month=month_options);"
   ]
  },
  {
   "cell_type": "markdown",
   "id": "c8ac1912",
   "metadata": {},
   "source": [
    "This plot shows the box plot of each year each season's temperature. It is easy to see the distribution of each season's temperature, with outliers, and gives you a variation in the temperature change across seasons. "
   ]
  },
  {
   "cell_type": "code",
   "execution_count": 9,
   "id": "653fa96f",
   "metadata": {},
   "outputs": [
    {
     "data": {
      "application/vnd.jupyter.widget-view+json": {
       "model_id": "c2304efd914a4b7cbb1e6aaeb23c4b05",
       "version_major": 2,
       "version_minor": 0
      },
      "text/plain": [
       "interactive(children=(Dropdown(description='year', options=(1950, 1951, 1952, 1953, 1954, 1955, 1956, 1957, 19…"
      ]
     },
     "metadata": {},
     "output_type": "display_data"
    }
   ],
   "source": [
    "import seaborn as sns\n",
    "def assign_season(month):\n",
    "    if month in [12, 1, 2]:\n",
    "        return 'Winter'\n",
    "    elif month in [3, 4, 5]:\n",
    "        return 'Spring'\n",
    "    elif month in [6, 7, 8]:\n",
    "        return 'Summer'\n",
    "    else:\n",
    "        return 'Fall'\n",
    "\n",
    "def boxplot_temperature_season(year):\n",
    "    df_year = df[df['Year'] == year].copy()\n",
    "    df_year['Season'] = df_year['Month'].apply(assign_season)\n",
    "    \n",
    "    plt.figure(figsize=(8, 6))\n",
    "    order = ['Winter', 'Spring', 'Summer', 'Fall']\n",
    "    sns.boxplot(x='Season', y='Ftemp', data=df_year, order=order, palette='pastel')\n",
    "    plt.title(f\"Temperature Distribution by Season in {year}\")\n",
    "    plt.xlabel(\"Season\")\n",
    "    plt.ylabel(\"Temperature (°F)\")\n",
    "    plt.show()\n",
    "interact(boxplot_temperature_season, year=sorted(df['Year'].unique()));"
   ]
  },
  {
   "cell_type": "markdown",
   "id": "f4cdd425",
   "metadata": {},
   "source": [
    "This plot let you choose 2 years, and it will display the monthly difference in temperature to visualize, which is very useful to see the climate change."
   ]
  },
  {
   "cell_type": "code",
   "execution_count": 10,
   "id": "3fe58c83",
   "metadata": {},
   "outputs": [
    {
     "data": {
      "application/vnd.jupyter.widget-view+json": {
       "model_id": "47c874f3868e46bdbfefa66f67e6c629",
       "version_major": 2,
       "version_minor": 0
      },
      "text/plain": [
       "interactive(children=(Dropdown(description='year1', options=(1950, 1951, 1952, 1953, 1954, 1955, 1956, 1957, 1…"
      ]
     },
     "metadata": {},
     "output_type": "display_data"
    }
   ],
   "source": [
    "def compare_temperature_years(year1, year2):\n",
    "    df_y1 = df[df['Year'] == year1].copy()\n",
    "    df_y2 = df[df['Year'] == year2].copy()\n",
    "    avg_temp_y1 = df_y1.groupby(df_y1['time'].dt.month)['Ftemp'].mean()\n",
    "    avg_temp_y2 = df_y2.groupby(df_y2['time'].dt.month)['Ftemp'].mean()\n",
    "    common_months = avg_temp_y1.index.intersection(avg_temp_y2.index)\n",
    "    avg_y1 = avg_temp_y1.loc[common_months]\n",
    "    avg_y2 = avg_temp_y2.loc[common_months]\n",
    "    \n",
    "    plt.figure(figsize=(12, 6))\n",
    "    plt.plot(common_months, avg_y1, marker='o', label=f\"{year1}\", alpha=0.8)\n",
    "    plt.plot(common_months, avg_y2, marker='o', label=f\"{year2}\", alpha=0.8)\n",
    "    plt.plot(common_months, avg_y1 - avg_y2, marker='x', linestyle=\"--\", label=\"Difference\", color=\"black\")\n",
    "    plt.xlabel(\"Month\")\n",
    "    plt.ylabel(\"Temperature (°F)\")\n",
    "    plt.title(f\"Comparative Monthly Temperature: {year1} vs {year2}\")\n",
    "    plt.xticks(common_months)\n",
    "    plt.legend()\n",
    "    plt.grid(True)\n",
    "    plt.show()\n",
    "\n",
    "from ipywidgets import interact\n",
    "years = sorted(df['Year'].unique())\n",
    "interact(compare_temperature_years, year1=years, year2=years);\n"
   ]
  },
  {
   "cell_type": "code",
   "execution_count": null,
   "id": "c5d1118f",
   "metadata": {},
   "outputs": [],
   "source": []
  }
 ],
 "metadata": {
  "kernelspec": {
   "display_name": "Python 3",
   "language": "python",
   "name": "python3"
  },
  "language_info": {
   "codemirror_mode": {
    "name": "ipython",
    "version": 3
   },
   "file_extension": ".py",
   "mimetype": "text/x-python",
   "name": "python",
   "nbconvert_exporter": "python",
   "pygments_lexer": "ipython3",
   "version": "3.8.8"
  }
 },
 "nbformat": 4,
 "nbformat_minor": 5
}
